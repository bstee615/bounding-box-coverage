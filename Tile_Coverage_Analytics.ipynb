{
  "nbformat": 4,
  "nbformat_minor": 2,
  "metadata": {
    "anaconda-cloud": {},
    "kernelspec": {
      "name": "python3",
      "display_name": "Python 3.8.5 64-bit ('base': conda)"
    },
    "language_info": {
      "name": "python",
      "version": "3.8.5",
      "mimetype": "text/x-python",
      "codemirror_mode": {
        "name": "ipython",
        "version": 3
      },
      "pygments_lexer": "ipython3",
      "nbconvert_exporter": "python",
      "file_extension": ".py"
    },
    "colab": {
      "name": "Tile Coverage Analytics.ipynb",
      "provenance": []
    },
    "interpreter": {
      "hash": "a535d873fe0e83797f6e6a2091476b53ca700b1c39e49c8cf317620b8a39cd7e"
    }
  },
  "cells": [
    {
      "cell_type": "markdown",
      "source": [
        "# Visualization with Seaborn"
      ],
      "metadata": {
        "id": "2DrG8CIx4O0H"
      }
    },
    {
      "cell_type": "code",
      "execution_count": 4,
      "source": [
        "import matplotlib.pyplot as plt\n",
        "plt.style.use('classic')\n",
        "%matplotlib inline\n",
        "import pandas as pd\n",
        "import seaborn as sns"
      ],
      "outputs": [],
      "metadata": {
        "collapsed": true,
        "id": "zhJFc3je4O0I"
      }
    },
    {
      "cell_type": "code",
      "execution_count": 5,
      "source": [
        "df = pd.read_csv('output/counts.csv')\n",
        "df = df.sort_values(by='counts',ascending=True)\n",
        "df['frequency'] = df['counts'].map(df['counts'].value_counts())\n",
        "print(df[\"counts\"].sum(), 'fields')\n",
        "df = df.drop_duplicates(subset=['counts'])\n",
        "print(df[\"frequency\"].sum(), 'tiles')\n",
        "df[\"cumpercentage\"] = df[\"frequency\"].cumsum()/df[\"frequency\"].sum()*100\n",
        "cumpercentage = df[\"cumpercentage\"]\n",
        "\n",
        "ax = plt.gca()\n",
        "sns.lineplot(x=df[\"counts\"], y=cumpercentage, ax=ax)\n",
        "plt.title('Fields in each Tile')\n",
        "plt.xlabel('# Fields in Tile')\n",
        "plt.ylabel('Cumulative % of Tiles')\n",
        "ax.set_xscale('log')\n",
        "plt.grid(True)"
      ],
      "outputs": [
        {
          "output_type": "stream",
          "name": "stdout",
          "text": [
            "302003 fields\n",
            "1184 tiles\n"
          ]
        },
        {
          "output_type": "display_data",
          "data": {
            "image/png": "[encoded data removed]",
            "text/plain": [
              "<Figure size 432x288 with 1 Axes>"
            ]
          },
          "metadata": {
            "needs_background": "light"
          }
        }
      ],
      "metadata": {
        "colab": {
          "base_uri": "https://localhost:8080/",
          "height": 337
        },
        "id": "KU1dOarF8EDb",
        "outputId": "ea627547-8a58-444c-c5c2-c2350a3228de"
      }
    },
    {
      "cell_type": "code",
      "execution_count": null,
      "source": [],
      "outputs": [],
      "metadata": {
        "id": "hZW-90Y25b4q"
      }
    }
  ]
}