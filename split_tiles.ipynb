{
 "cells": [
  {
   "cell_type": "code",
   "execution_count": 2,
   "source": [
    "import geopandas as gpd\n",
    "from matplotlib import pyplot as plt"
   ],
   "outputs": [],
   "metadata": {}
  },
  {
   "cell_type": "code",
   "execution_count": 3,
   "source": [
    "gpd.io.file.fiona.drvsupport.supported_drivers['KML'] = 'rw'\n",
    "tiles_df = gpd.read_file('output/covering_tiles.kml', driver='KML')\n",
    "print(repr(tiles_df.crs))\n",
    "print(tiles_df)"
   ],
   "outputs": [
    {
     "output_type": "stream",
     "name": "stdout",
     "text": [
      "<Geographic 2D CRS: EPSG:4326>\n",
      "Name: WGS 84\n",
      "Axis Info [ellipsoidal]:\n",
      "- Lat[north]: Geodetic latitude (degree)\n",
      "- Lon[east]: Geodetic longitude (degree)\n",
      "Area of Use:\n",
      "- name: World.\n",
      "- bounds: (-180.0, -90.0, 180.0, 90.0)\n",
      "Datum: World Geodetic System 1984 ensemble\n",
      "- Ellipsoid: WGS 84\n",
      "- Prime Meridian: Greenwich\n",
      "\n",
      "     Name Description                                           geometry\n",
      "0                      POLYGON Z ((-120.28118 48.72093 0.00000, -118....\n",
      "1                      POLYGON Z ((-119.67207 47.82260 0.00000, -118....\n",
      "2                      POLYGON Z ((-119.71936 48.72091 0.00000, -118....\n",
      "3                      POLYGON Z ((-113.43120 42.42690 0.00000, -112....\n",
      "4                      POLYGON Z ((-112.21648 42.44624 0.00000, -110....\n",
      "...   ...         ...                                                ...\n",
      "1179                   POLYGON Z ((29.99818 -26.18805 0.00000, 31.096...\n",
      "1180                   POLYGON Z ((136.08714 -34.33630 0.00000, 137.2...\n",
      "1181                   POLYGON Z ((138.84898 -33.42038 0.00000, 140.0...\n",
      "1182                   POLYGON Z ((144.77762 -36.12374 0.00000, 145.9...\n",
      "1183                   POLYGON Z ((146.99977 -37.94759 0.00000, 148.2...\n",
      "\n",
      "[1184 rows x 3 columns]\n"
     ]
    }
   ],
   "metadata": {}
  },
  {
   "cell_type": "code",
   "execution_count": 92,
   "source": [
    "from shapely.geometry.multilinestring import MultiLineString\n",
    "from shapely.geometry import MultiPolygon, Polygon\n",
    "from shapely.geometry.linestring import LineString\n",
    "from shapely.ops import split\n",
    "import shapely.ops as shops\n",
    "import shapely.geometry as shgeom\n",
    "\n",
    "\n",
    "\"\"\"\n",
    "Can't be assed to axis-align the box, so just do two separate lerps.\n",
    "\n",
    "Given this square:\n",
    "1 --> 2\n",
    "^     |\n",
    "|     v\n",
    "0 <-- 3\n",
    "\n",
    "left -> right: lerp 0, 1 -> 3, 2\n",
    "top -> down: lerp 1, 2 -> 0, 3\n",
    "\"\"\"\n",
    "\n",
    "ax = plt.gca()\n",
    "def plot_geom(geom, **kwargs):\n",
    "    gpd.GeoSeries(geom).plot(ax=ax, **kwargs)\n",
    "\n",
    "# first lerp: 0, 3 -> 1, 2\n",
    "# https://stackoverflow.com/a/58284215\n",
    "def split_1d(geom, n, direction, debug=False):\n",
    "    coords = list(geom.exterior.coords)\n",
    "    if len(coords) == 5:\n",
    "        for i, c in enumerate(coords):\n",
    "            if i == len(coords)-1:\n",
    "                d = coords[0]\n",
    "            else:\n",
    "                d = coords[i+1]\n",
    "            if c == d:\n",
    "                if debug: print('Remove', i)\n",
    "                del coords[i]\n",
    "                break\n",
    "    assert len(coords) == 4\n",
    "\n",
    "    min_coord_i = 0\n",
    "    for i, c in enumerate(coords):\n",
    "        if c[0] < coords[min_coord_i][0] and c[1] < coords[min_coord_i][1]:\n",
    "            min_coord_i = i\n",
    "            if debug: print('Rotate', i, 'to first index')\n",
    "    coords = coords[min_coord_i:] + coords[:min_coord_i]\n",
    "\n",
    "    # Assume the following:\n",
    "    # 1. 4 coordinates are the 4 bounds of the rectangle\n",
    "    # 2. Coordinates are in a linear ring\n",
    "    # 3. Bottom left coordinate is at coords[0]\n",
    "\n",
    "    splitters = []\n",
    "    if direction == 'left_right':\n",
    "        ls_a = LineString((coords[0], coords[3]))\n",
    "        ls_b = LineString((coords[1], coords[2]))\n",
    "    elif direction == 'top_down':\n",
    "        ls_a = LineString((coords[1], coords[0]))\n",
    "        ls_b = LineString((coords[2], coords[3]))\n",
    "    else:\n",
    "        raise NotImplementedError(direction)\n",
    "    # Test that top and bot are correctly named\n",
    "    if debug:\n",
    "        plot_geom(ls_a, color='red')\n",
    "        plot_geom(ls_b, color='green')\n",
    "    offset = 1.\n",
    "    for i in range(1, n):\n",
    "        percent = i / n\n",
    "        interp_a_ls = ls_a.interpolate(percent, normalized=True)\n",
    "        interp_b_ls = ls_b.interpolate(percent, normalized=True)\n",
    "        new_interp_a_ls = shgeom.Point(\n",
    "            (interp_a_ls.x - ((interp_b_ls.x - interp_a_ls.x) * offset)),\n",
    "            (interp_a_ls.y - ((interp_b_ls.y - interp_a_ls.y) * offset))\n",
    "            )\n",
    "        new_interp_b_ls = shgeom.Point(\n",
    "            (interp_b_ls.x - ((interp_a_ls.x - interp_b_ls.x) * offset)),\n",
    "            (interp_b_ls.y - ((interp_a_ls.y - interp_b_ls.y) * offset))\n",
    "            )\n",
    "        if debug:\n",
    "            plot_geom(new_interp_a_ls, color='orange')\n",
    "            plot_geom(new_interp_b_ls, color='yellow')\n",
    "        split_ls = LineString((new_interp_b_ls, new_interp_a_ls))\n",
    "        splitters.append(split_ls)\n",
    "\n",
    "    splits = []\n",
    "    result = geom\n",
    "    for splitter in splitters:\n",
    "        split_result = split(result, splitter)\n",
    "        if len(split_result) == 2:\n",
    "            p, q = split_result\n",
    "            result = q\n",
    "            splits.append(p)\n",
    "        else:\n",
    "            raise Exception(f'{len(split_result)=}')\n",
    "    splits.append(q)\n",
    "    return splits\n",
    "\n",
    "geom_0 = tiles_df.geometry[0]\n",
    "small_tiles = []\n",
    "\n",
    "n = 10\n",
    "splits = split_1d(geom_0, n, 'left_right')\n",
    "for i, s in enumerate(splits):\n",
    "    plot_geom(s, color=(1, i/len(splits), 1))\n",
    "\n",
    "for i, s in enumerate(splits):\n",
    "    small_tiles += split_1d(s, n, 'top_down')\n",
    "\n",
    "for i in range(n):\n",
    "    for j in range(n):\n",
    "        plot_geom(small_tiles[i*n+j], color=(1, i/n, j/n))"
   ],
   "outputs": [
    {
     "output_type": "display_data",
     "data": {
      "image/png": "[encoded data removed]",
      "text/plain": [
       "<Figure size 432x288 with 1 Axes>"
      ]
     },
     "metadata": {
      "needs_background": "light"
     }
    }
   ],
   "metadata": {}
  },
  {
   "cell_type": "code",
   "execution_count": null,
   "source": [],
   "outputs": [],
   "metadata": {}
  }
 ],
 "metadata": {
  "orig_nbformat": 4,
  "language_info": {
   "name": "python",
   "version": "3.8.5",
   "mimetype": "text/x-python",
   "codemirror_mode": {
    "name": "ipython",
    "version": 3
   },
   "pygments_lexer": "ipython3",
   "nbconvert_exporter": "python",
   "file_extension": ".py"
  },
  "kernelspec": {
   "name": "python3",
   "display_name": "Python 3.8.5 64-bit ('base': conda)"
  },
  "interpreter": {
   "hash": "a535d873fe0e83797f6e6a2091476b53ca700b1c39e49c8cf317620b8a39cd7e"
  }
 },
 "nbformat": 4,
 "nbformat_minor": 2
}