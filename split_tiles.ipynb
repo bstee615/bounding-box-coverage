{
 "cells": [
  {
   "cell_type": "code",
   "execution_count": 3,
   "source": [
    "import geopandas as gpd\n",
    "from matplotlib import pyplot as plt"
   ],
   "outputs": [],
   "metadata": {}
  },
  {
   "cell_type": "code",
   "execution_count": 4,
   "source": [
    "# gpd.io.file.fiona.drvsupport.supported_drivers['KML'] = 'rw'\n",
    "# tiles_df = gpd.read_file('output/covering_tiles.kml', driver='KML')\n",
    "tiles_df = gpd.read_file('output/covering_tiles.json')\n",
    "print(repr(tiles_df.crs))\n",
    "print(tiles_df)"
   ],
   "outputs": [
    {
     "output_type": "stream",
     "name": "stdout",
     "text": [
      "<Geographic 2D CRS: EPSG:4326>\n",
      "Name: WGS 84\n",
      "Axis Info [ellipsoidal]:\n",
      "- Lat[north]: Geodetic latitude (degree)\n",
      "- Lon[east]: Geodetic longitude (degree)\n",
      "Area of Use:\n",
      "- name: World.\n",
      "- bounds: (-180.0, -90.0, 180.0, 90.0)\n",
      "Datum: World Geodetic System 1984 ensemble\n",
      "- Ellipsoid: WGS 84\n",
      "- Prime Meridian: Greenwich\n",
      "\n",
      "     TileName                                           geometry\n",
      "0       10UGU  POLYGON Z ((-120.28118 48.72093 0.00000, -118....\n",
      "1       11TLN  POLYGON Z ((-119.67207 47.82260 0.00000, -118....\n",
      "2       11ULP  POLYGON Z ((-119.71936 48.72091 0.00000, -118....\n",
      "3       12TUM  POLYGON Z ((-113.43120 42.42690 0.00000, -112....\n",
      "4       12TVM  POLYGON Z ((-112.21648 42.44624 0.00000, -110....\n",
      "...       ...                                                ...\n",
      "1179    36JTR  POLYGON Z ((29.99818 -26.18805 0.00000, 31.096...\n",
      "1180    53HPB  POLYGON Z ((136.08714 -34.33630 0.00000, 137.2...\n",
      "1181    54HUH  POLYGON Z ((138.84898 -33.42038 0.00000, 140.0...\n",
      "1182    55HCV  POLYGON Z ((144.77762 -36.12374 0.00000, 145.9...\n",
      "1183    55HET  POLYGON Z ((146.99977 -37.94759 0.00000, 148.2...\n",
      "\n",
      "[1184 rows x 2 columns]\n"
     ]
    }
   ],
   "metadata": {}
  },
  {
   "cell_type": "code",
   "execution_count": 12,
   "source": [
    "import shapely.ops as shops\n",
    "import shapely.geometry as shgeom\n",
    "import shapely.affinity as shaff\n",
    "import time\n",
    "\n",
    "\n",
    "ax = None\n",
    "def plot_geom(geom, **kwargs):\n",
    "    \"\"\"\n",
    "    Plot geom on the global axis.\n",
    "    \"\"\"\n",
    "    assert ax is not None\n",
    "    gpd.GeoSeries(geom).plot(ax=ax, **kwargs)\n",
    "\n",
    "def split_1d(geom, n, direction, debug=False):\n",
    "    \"\"\"\n",
    "    Split geom n times in a given direction.\n",
    "    Return the splitted geometries.\n",
    "    Follows method in https://stackoverflow.com/q/58283684.\n",
    "\n",
    "    Given this square:\n",
    "    1 --> 2\n",
    "    ^     |\n",
    "    |     v\n",
    "    0 <-- 3\n",
    "\n",
    "    left -> right: lerp 0, 1 -> 3, 2\n",
    "    top -> down: lerp 1, 2 -> 0, 3\n",
    "    \"\"\"\n",
    "    coords = list(shgeom.Point(c) for c in geom.exterior.coords)\n",
    "    if len(coords) == 5:\n",
    "        for i, c in enumerate(coords):\n",
    "            if i == len(coords)-1:\n",
    "                d = coords[0]\n",
    "            else:\n",
    "                d = coords[i+1]\n",
    "            if c == d:\n",
    "                if debug: print('Remove', i)\n",
    "                del coords[i]\n",
    "                break\n",
    "    assert len(coords) == 4\n",
    "\n",
    "    # rotate linear ring so that coords[0] is the bottom left\n",
    "    # assumes geometry only has one point in quadrant III\n",
    "    def offset_from_centroid(geom, c):\n",
    "        return shaff.translate(c, -geom.centroid.x, -geom.centroid.y)\n",
    "    min_coord_i = 0\n",
    "    for i, c in enumerate(coords):\n",
    "        off = offset_from_centroid(geom, c)\n",
    "        if off.x < 0 and off.y < 0:\n",
    "            min_coord_i = i\n",
    "            if debug: print('Rotate', i, 'to first index')\n",
    "    coords = coords[min_coord_i:] + coords[:min_coord_i]\n",
    "\n",
    "    # Assume the following:\n",
    "    # 1. 4 coordinates are the 4 bounds of the rectangle\n",
    "    # 2. Coordinates are in a linear ring\n",
    "    # 3. Bottom left coordinate is at coords[0]\n",
    "\n",
    "    if debug:\n",
    "        # plot linear ring\n",
    "        for i, c in enumerate(coords):\n",
    "            plot_geom(c, color=(0, 0, 1, (i+1)/len(coords)))\n",
    "\n",
    "    # lerp from a to b, n times\n",
    "    splitters = []\n",
    "    if direction == 'left_right':\n",
    "        ls_a = shgeom.LineString((coords[0], coords[3]))\n",
    "        ls_b = shgeom.LineString((coords[1], coords[2]))\n",
    "    elif direction == 'top_down':\n",
    "        ls_a = shgeom.LineString((coords[1], coords[0]))\n",
    "        ls_b = shgeom.LineString((coords[2], coords[3]))\n",
    "    else:\n",
    "        raise NotImplementedError(direction)\n",
    "    # test that top and bot are correctly named\n",
    "    if debug:\n",
    "        plot_geom(ls_a, color='red')\n",
    "        plot_geom(ls_b, color='green')\n",
    "    \n",
    "    extend_percent = 0.2  # how much to extend the line\n",
    "    for i in range(1, n):\n",
    "        # lerp along the line\n",
    "        lerp_percent = i / n\n",
    "        interp_a_ls = ls_a.interpolate(lerp_percent, normalized=True)\n",
    "        interp_b_ls = ls_b.interpolate(lerp_percent, normalized=True)\n",
    "\n",
    "        # extend the line by a portion to account for floating point precision\n",
    "        new_interp_a_ls = shgeom.Point(\n",
    "            (interp_a_ls.x - ((interp_b_ls.x - interp_a_ls.x) * extend_percent)),\n",
    "            (interp_a_ls.y - ((interp_b_ls.y - interp_a_ls.y) * extend_percent))\n",
    "            )\n",
    "        new_interp_b_ls = shgeom.Point(\n",
    "            (interp_b_ls.x - ((interp_a_ls.x - interp_b_ls.x) * extend_percent)),\n",
    "            (interp_b_ls.y - ((interp_a_ls.y - interp_b_ls.y) * extend_percent))\n",
    "            )\n",
    "        if debug:\n",
    "            plot_geom(new_interp_a_ls, color=(1, 0, 0, lerp_percent))\n",
    "            plot_geom(new_interp_b_ls, color=(0, 1, 0, lerp_percent))\n",
    "        \n",
    "        # create a new LineString which will split geom\n",
    "        split_ls = shgeom.LineString((new_interp_b_ls, new_interp_a_ls))\n",
    "        splitters.append(split_ls)\n",
    "\n",
    "    # split geom using all the splitters.\n",
    "    # this assumes ordering of the splitters (left -> right, up -> down)...\n",
    "    # and will fail if the ordering is messed up\n",
    "    splits = []\n",
    "    q = geom\n",
    "    for i, splitter in enumerate(splitters):\n",
    "        if debug:\n",
    "            plot_geom(q, color=(0, 0, 0, 0), edgecolor=(0, 0, 1), hatch='o')\n",
    "            plot_geom(splitter, color=(0, 0, 1))\n",
    "        split_result = shops.split(q, splitter)\n",
    "        if len(split_result) == 2:\n",
    "            p, q = split_result\n",
    "            splits.append(p)\n",
    "        else:\n",
    "            # the geometry was not split by the splitter, blurt diagnostics\n",
    "            if splitter.intersects(q):\n",
    "                print('line intersects but does not split')\n",
    "            else:\n",
    "                print('line does not intersect')\n",
    "            raise Exception(f'iteration {i} {len(split_result)=}')\n",
    "    splits.append(q)\n",
    "    return splits\n",
    "\n",
    "\n",
    "def split_2d(geom, n, return_list=False):\n",
    "    \"\"\"\n",
    "    \"\"\"\n",
    "    small_tiles = []  # results of splitting, in a 1d array\n",
    "    splits = split_1d(geom, n, 'left_right')\n",
    "    for s in splits:\n",
    "        s_split = split_1d(s, n, 'top_down')\n",
    "        small_tiles += s_split\n",
    "    if return_list:\n",
    "        return small_tiles\n",
    "    else:\n",
    "        return shgeom.MultiPolygon(small_tiles)"
   ],
   "outputs": [],
   "metadata": {}
  },
  {
   "cell_type": "code",
   "execution_count": 13,
   "source": [
    "# Plot some 2d splits\n",
    "times = []\n",
    "n = 10\n",
    "for tile_i, tile_geom in enumerate(tiles_df.geometry.sample(3)):\n",
    "    # can't be assed to axis-align the box, so just do two separate lerps\n",
    "    small_tiles = []  # results of splitting, in a 1d array\n",
    "    begin = time.time()\n",
    "    small_tiles = split_2d(tile_geom, n, return_list=True)\n",
    "    end = time.time()\n",
    "    times.append(end-begin)\n",
    "    \n",
    "    # plot the results\n",
    "    ax = plt.gca()\n",
    "    for i in range(n):\n",
    "        for j in range(n):\n",
    "            plot_geom(small_tiles[i*n+j], color=(1, i/n, j/n))\n",
    "    plt.show()\n",
    "print('Average time:', sum(times)/len(times))"
   ],
   "outputs": [
    {
     "output_type": "display_data",
     "data": {
      "image/png": "[encoded data removed]",
      "text/plain": [
       "<Figure size 432x288 with 1 Axes>"
      ]
     },
     "metadata": {
      "needs_background": "light"
     }
    },
    {
     "output_type": "display_data",
     "data": {
      "image/png": "[encoded data removed]",
      "text/plain": [
       "<Figure size 432x288 with 1 Axes>"
      ]
     },
     "metadata": {
      "needs_background": "light"
     }
    },
    {
     "output_type": "display_data",
     "data": {
      "image/png": "[encoded data removed]",
      "text/plain": [
       "<Figure size 432x288 with 1 Axes>"
      ]
     },
     "metadata": {
      "needs_background": "light"
     }
    },
    {
     "output_type": "stream",
     "name": "stdout",
     "text": [
      "Average time: 0.08092705408732097\n"
     ]
    }
   ],
   "metadata": {}
  },
  {
   "cell_type": "code",
   "execution_count": 17,
   "source": [
    "tiles_df_10 = tiles_df.copy()\n",
    "tiles_df_10_geometry = tiles_df_10.to_crs('EPSG:3857').geometry.head(5).progress_apply(split_2d, n=10)\n",
    "for i in range(5):\n",
    "    fig, axs = plt.subplots(1, 2)\n",
    "    gpd.GeoSeries(tiles_df_10_geometry[i]).plot(ax=axs[0])\n",
    "    gpd.GeoSeries(tiles_df.to_crs('EPSG:3857').geometry[i]).plot(ax=axs[1])\n",
    "    fig.tight_layout()"
   ],
   "outputs": [
    {
     "output_type": "display_data",
     "data": {
      "application/vnd.jupyter.widget-view+json": {
       "version_major": 2,
       "version_minor": 0,
       "model_id": "784f7bcf9ed7474ca7e66c2ad8c5d24d"
      },
      "text/plain": [
       "HBox(children=(HTML(value=''), FloatProgress(value=0.0, max=5.0), HTML(value='')))"
      ]
     },
     "metadata": {}
    },
    {
     "output_type": "stream",
     "name": "stdout",
     "text": [
      "\n"
     ]
    },
    {
     "output_type": "display_data",
     "data": {
      "image/png": "[encoded data removed]",
      "text/plain": [
       "<Figure size 432x288 with 2 Axes>"
      ]
     },
     "metadata": {
      "needs_background": "light"
     }
    },
    {
     "output_type": "display_data",
     "data": {
      "image/png": "[encoded data removed]",
      "text/plain": [
       "<Figure size 432x288 with 2 Axes>"
      ]
     },
     "metadata": {
      "needs_background": "light"
     }
    },
    {
     "output_type": "display_data",
     "data": {
      "image/png": "[encoded data removed]",
      "text/plain": [
       "<Figure size 432x288 with 2 Axes>"
      ]
     },
     "metadata": {
      "needs_background": "light"
     }
    },
    {
     "output_type": "display_data",
     "data": {
      "image/png": "[encoded data removed]",
      "text/plain": [
       "<Figure size 432x288 with 2 Axes>"
      ]
     },
     "metadata": {
      "needs_background": "light"
     }
    },
    {
     "output_type": "display_data",
     "data": {
      "image/png": "[encoded data removed]",
      "text/plain": [
       "<Figure size 432x288 with 2 Axes>"
      ]
     },
     "metadata": {
      "needs_background": "light"
     }
    }
   ],
   "metadata": {}
  },
  {
   "cell_type": "code",
   "execution_count": 16,
   "source": [
    "# Apply splits to df\n",
    "from tqdm.notebook import tqdm\n",
    "tqdm.pandas()\n",
    "def split_df(df, n):\n",
    "    new_df = df.copy()\n",
    "    new_df.geometry = new_df.geometry.progress_apply(split_2d, n=n)\n",
    "    new_df = new_df.explode()\n",
    "    new_df = new_df.reset_index(1).rename(columns={\"level_1\": \"InnerTileIndex\"})\n",
    "    new_df[\"TileId\"] = new_df[\"TileName\"]\n",
    "    new_df[\"TileName\"] = new_df.apply(lambda row: '_'.join((row[\"TileName\"], str(row[\"InnerTileIndex\"]))), axis=1)\n",
    "    new_df = new_df.reset_index(drop=True)\n",
    "    print(n, new_df)\n",
    "    new_df.to_file(f'output/covering_tiles_split{n}.json', driver='GeoJSON')\n",
    "    return new_df"
   ],
   "outputs": [
    {
     "output_type": "stream",
     "name": "stderr",
     "text": [
      "/home/benja/miniconda3/lib/python3.8/site-packages/tqdm/std.py:703: FutureWarning: The Panel class is removed from pandas. Accessing it from the top-level namespace will also be removed in the next version\n",
      "  from pandas import Panel\n"
     ]
    }
   ],
   "metadata": {}
  },
  {
   "cell_type": "code",
   "execution_count": 41,
   "source": [
    "split_df(tiles_df, 2)\n",
    "split_df(tiles_df, 4)\n",
    "split_df(tiles_df, 6)\n",
    "split_df(tiles_df, 8)\n",
    "split_df(tiles_df, 10)"
   ],
   "outputs": [
    {
     "output_type": "display_data",
     "data": {
      "application/vnd.jupyter.widget-view+json": {
       "version_major": 2,
       "version_minor": 0,
       "model_id": "55646135d31c4e36b4e90d8efa79b2c9"
      },
      "text/plain": [
       "HBox(children=(HTML(value=''), FloatProgress(value=0.0, max=1184.0), HTML(value='')))"
      ]
     },
     "metadata": {}
    },
    {
     "output_type": "stream",
     "name": "stdout",
     "text": [
      "\n",
      "2       InnerTileIndex TileName  \\\n",
      "0                  0  10UGU_0   \n",
      "1                  1  10UGU_1   \n",
      "2                  2  10UGU_2   \n",
      "3                  3  10UGU_3   \n",
      "4                  0  11TLN_0   \n",
      "...              ...      ...   \n",
      "4731               3  55HCV_3   \n",
      "4732               0  55HET_0   \n",
      "4733               1  55HET_1   \n",
      "4734               2  55HET_2   \n",
      "4735               3  55HET_3   \n",
      "\n",
      "                                               geometry TileId  \n",
      "0     POLYGON Z ((-120.28118 48.72093 0.00000, -119....  10UGU  \n",
      "1     POLYGON Z ((-119.56941 48.20551 0.00000, -119....  10UGU  \n",
      "2     POLYGON Z ((-119.53645 48.69851 0.00000, -118....  10UGU  \n",
      "3     POLYGON Z ((-118.83173 48.18347 0.00000, -118....  10UGU  \n",
      "4     POLYGON Z ((-119.67207 47.82260 0.00000, -118....  11TLN  \n",
      "...                                                 ...    ...  \n",
      "4731  POLYGON Z ((145.99098 -36.63501 0.00000, 145.9...  55HCV  \n",
      "4732  POLYGON Z ((146.99977 -37.94759 0.00000, 147.6...  55HET  \n",
      "4733  POLYGON Z ((147.62885 -38.43898 0.00000, 147.6...  55HET  \n",
      "4734  POLYGON Z ((147.62456 -37.94427 0.00000, 148.2...  55HET  \n",
      "4735  POLYGON Z ((148.25794 -38.43561 0.00000, 148.2...  55HET  \n",
      "\n",
      "[4736 rows x 4 columns]\n"
     ]
    },
    {
     "output_type": "display_data",
     "data": {
      "application/vnd.jupyter.widget-view+json": {
       "version_major": 2,
       "version_minor": 0,
       "model_id": "0f175cf567a844089935c89f3ee9d09f"
      },
      "text/plain": [
       "HBox(children=(HTML(value=''), FloatProgress(value=0.0, max=1184.0), HTML(value='')))"
      ]
     },
     "metadata": {}
    },
    {
     "output_type": "stream",
     "name": "stdout",
     "text": [
      "\n",
      "4        InnerTileIndex  TileName  \\\n",
      "0                   0   10UGU_0   \n",
      "1                   1   10UGU_1   \n",
      "2                   2   10UGU_2   \n",
      "3                   3   10UGU_3   \n",
      "4                   4   10UGU_4   \n",
      "...               ...       ...   \n",
      "18939              11  55HET_11   \n",
      "18940              12  55HET_12   \n",
      "18941              13  55HET_13   \n",
      "18942              14  55HET_14   \n",
      "18943              15  55HET_15   \n",
      "\n",
      "                                                geometry TileId  \n",
      "0      POLYGON Z ((-120.28118 48.72093 0.00000, -119....  10UGU  \n",
      "1      POLYGON Z ((-119.92353 48.46312 0.00000, -119....  10UGU  \n",
      "2      POLYGON Z ((-119.93825 48.21653 0.00000, -119....  10UGU  \n",
      "3      POLYGON Z ((-119.95296 47.96993 0.00000, -119....  10UGU  \n",
      "4      POLYGON Z ((-119.90882 48.70972 0.00000, -119....  10UGU  \n",
      "...                                                  ...    ...  \n",
      "18939  POLYGON Z ((147.94662 -38.68464 0.00000, 147.9...  55HET  \n",
      "18940  POLYGON Z ((147.93696 -37.94261 0.00000, 148.2...  55HET  \n",
      "18941  POLYGON Z ((148.25365 -38.18828 0.00000, 148.2...  55HET  \n",
      "18942  POLYGON Z ((148.25794 -38.43561 0.00000, 148.2...  55HET  \n",
      "18943  POLYGON Z ((148.26223 -38.68293 0.00000, 148.2...  55HET  \n",
      "\n",
      "[18944 rows x 4 columns]\n"
     ]
    },
    {
     "output_type": "display_data",
     "data": {
      "application/vnd.jupyter.widget-view+json": {
       "version_major": 2,
       "version_minor": 0,
       "model_id": "817c31bd9a074bc4802f0dbbffaf9d7b"
      },
      "text/plain": [
       "HBox(children=(HTML(value=''), FloatProgress(value=0.0, max=1184.0), HTML(value='')))"
      ]
     },
     "metadata": {}
    },
    {
     "output_type": "stream",
     "name": "stdout",
     "text": [
      "\n",
      "6        InnerTileIndex  TileName  \\\n",
      "0                   0   10UGU_0   \n",
      "1                   1   10UGU_1   \n",
      "2                   2   10UGU_2   \n",
      "3                   3   10UGU_3   \n",
      "4                   4   10UGU_4   \n",
      "...               ...       ...   \n",
      "42619              31  55HET_31   \n",
      "42620              32  55HET_32   \n",
      "42621              33  55HET_33   \n",
      "42622              34  55HET_34   \n",
      "42623              35  55HET_35   \n",
      "\n",
      "                                                geometry TileId  \n",
      "0      POLYGON Z ((-120.28118 48.72093 0.00000, -120....  10UGU  \n",
      "1      POLYGON Z ((-120.04236 48.54904 0.00000, -120....  10UGU  \n",
      "2      POLYGON Z ((-120.05178 48.38462 0.00000, -120....  10UGU  \n",
      "3      POLYGON Z ((-120.06119 48.22020 0.00000, -120....  10UGU  \n",
      "4      POLYGON Z ((-120.07061 48.05578 0.00000, -120....  10UGU  \n",
      "...                                                  ...    ...  \n",
      "42619  POLYGON Z ((148.25222 -38.10584 0.00000, 148.2...  55HET  \n",
      "42620  POLYGON Z ((148.25508 -38.27072 0.00000, 148.2...  55HET  \n",
      "42621  POLYGON Z ((148.25794 -38.43561 0.00000, 148.2...  55HET  \n",
      "42622  POLYGON Z ((148.26080 -38.60049 0.00000, 148.2...  55HET  \n",
      "42623  POLYGON Z ((148.26366 -38.76538 0.00000, 148.2...  55HET  \n",
      "\n",
      "[42624 rows x 4 columns]\n"
     ]
    },
    {
     "output_type": "display_data",
     "data": {
      "application/vnd.jupyter.widget-view+json": {
       "version_major": 2,
       "version_minor": 0,
       "model_id": "31e5db4c40534290b192ec2e04aeb81d"
      },
      "text/plain": [
       "HBox(children=(HTML(value=''), FloatProgress(value=0.0, max=1184.0), HTML(value='')))"
      ]
     },
     "metadata": {}
    },
    {
     "output_type": "stream",
     "name": "stdout",
     "text": [
      "\n",
      "8        InnerTileIndex  TileName  \\\n",
      "0                   0   10UGU_0   \n",
      "1                   1   10UGU_1   \n",
      "2                   2   10UGU_2   \n",
      "3                   3   10UGU_3   \n",
      "4                   4   10UGU_4   \n",
      "...               ...       ...   \n",
      "75771              59  55HET_59   \n",
      "75772              60  55HET_60   \n",
      "75773              61  55HET_61   \n",
      "75774              62  55HET_62   \n",
      "75775              63  55HET_63   \n",
      "\n",
      "                                                geometry TileId  \n",
      "0      POLYGON Z ((-120.28118 48.72093 0.00000, -120....  10UGU  \n",
      "1      POLYGON Z ((-120.10192 48.59200 0.00000, -120....  10UGU  \n",
      "2      POLYGON Z ((-120.10883 48.46868 0.00000, -120....  10UGU  \n",
      "3      POLYGON Z ((-120.11575 48.34536 0.00000, -120....  10UGU  \n",
      "4      POLYGON Z ((-120.12267 48.22204 0.00000, -120....  10UGU  \n",
      "...                                                  ...    ...  \n",
      "75771  POLYGON Z ((148.25579 -38.31195 0.00000, 148.2...  55HET  \n",
      "75772  POLYGON Z ((148.25794 -38.43561 0.00000, 148.2...  55HET  \n",
      "75773  POLYGON Z ((148.26009 -38.55927 0.00000, 148.2...  55HET  \n",
      "75774  POLYGON Z ((148.26223 -38.68293 0.00000, 148.2...  55HET  \n",
      "75775  POLYGON Z ((148.26438 -38.80660 0.00000, 148.2...  55HET  \n",
      "\n",
      "[75776 rows x 4 columns]\n"
     ]
    },
    {
     "output_type": "display_data",
     "data": {
      "application/vnd.jupyter.widget-view+json": {
       "version_major": 2,
       "version_minor": 0,
       "model_id": "8985fd9c615d4f1794496d7ef369cdea"
      },
      "text/plain": [
       "HBox(children=(HTML(value=''), FloatProgress(value=0.0, max=1184.0), HTML(value='')))"
      ]
     },
     "metadata": {}
    },
    {
     "output_type": "stream",
     "name": "stdout",
     "text": [
      "\n",
      "10         InnerTileIndex  TileName  \\\n",
      "0                    0   10UGU_0   \n",
      "1                    1   10UGU_1   \n",
      "2                    2   10UGU_2   \n",
      "3                    3   10UGU_3   \n",
      "4                    4   10UGU_4   \n",
      "...                ...       ...   \n",
      "118395              95  55HET_95   \n",
      "118396              96  55HET_96   \n",
      "118397              97  55HET_97   \n",
      "118398              98  55HET_98   \n",
      "118399              99  55HET_99   \n",
      "\n",
      "                                                 geometry TileId  \n",
      "0       POLYGON Z ((-120.28118 48.72093 0.00000, -120....  10UGU  \n",
      "1       POLYGON Z ((-120.13770 48.61778 0.00000, -120....  10UGU  \n",
      "2       POLYGON Z ((-120.14316 48.51912 0.00000, -120....  10UGU  \n",
      "3       POLYGON Z ((-120.14863 48.42046 0.00000, -120....  10UGU  \n",
      "4       POLYGON Z ((-120.15409 48.32180 0.00000, -120....  10UGU  \n",
      "...                                                   ...    ...  \n",
      "118395  POLYGON Z ((148.25794 -38.43561 0.00000, 148.2...  55HET  \n",
      "118396  POLYGON Z ((148.25966 -38.53454 0.00000, 148.2...  55HET  \n",
      "118397  POLYGON Z ((148.26137 -38.63347 0.00000, 148.2...  55HET  \n",
      "118398  POLYGON Z ((148.26309 -38.73240 0.00000, 148.2...  55HET  \n",
      "118399  POLYGON Z ((148.26481 -38.83133 0.00000, 148.2...  55HET  \n",
      "\n",
      "[118400 rows x 4 columns]\n"
     ]
    },
    {
     "output_type": "execute_result",
     "data": {
      "text/html": [
       "<div>\n",
       "<style scoped>\n",
       "    .dataframe tbody tr th:only-of-type {\n",
       "        vertical-align: middle;\n",
       "    }\n",
       "\n",
       "    .dataframe tbody tr th {\n",
       "        vertical-align: top;\n",
       "    }\n",
       "\n",
       "    .dataframe thead th {\n",
       "        text-align: right;\n",
       "    }\n",
       "</style>\n",
       "<table border=\"1\" class=\"dataframe\">\n",
       "  <thead>\n",
       "    <tr style=\"text-align: right;\">\n",
       "      <th></th>\n",
       "      <th>InnerTileIndex</th>\n",
       "      <th>TileName</th>\n",
       "      <th>geometry</th>\n",
       "      <th>TileId</th>\n",
       "    </tr>\n",
       "  </thead>\n",
       "  <tbody>\n",
       "    <tr>\n",
       "      <th>0</th>\n",
       "      <td>0</td>\n",
       "      <td>10UGU_0</td>\n",
       "      <td>POLYGON Z ((-120.28118 48.72093 0.00000, -120....</td>\n",
       "      <td>10UGU</td>\n",
       "    </tr>\n",
       "    <tr>\n",
       "      <th>1</th>\n",
       "      <td>1</td>\n",
       "      <td>10UGU_1</td>\n",
       "      <td>POLYGON Z ((-120.13770 48.61778 0.00000, -120....</td>\n",
       "      <td>10UGU</td>\n",
       "    </tr>\n",
       "    <tr>\n",
       "      <th>2</th>\n",
       "      <td>2</td>\n",
       "      <td>10UGU_2</td>\n",
       "      <td>POLYGON Z ((-120.14316 48.51912 0.00000, -120....</td>\n",
       "      <td>10UGU</td>\n",
       "    </tr>\n",
       "    <tr>\n",
       "      <th>3</th>\n",
       "      <td>3</td>\n",
       "      <td>10UGU_3</td>\n",
       "      <td>POLYGON Z ((-120.14863 48.42046 0.00000, -120....</td>\n",
       "      <td>10UGU</td>\n",
       "    </tr>\n",
       "    <tr>\n",
       "      <th>4</th>\n",
       "      <td>4</td>\n",
       "      <td>10UGU_4</td>\n",
       "      <td>POLYGON Z ((-120.15409 48.32180 0.00000, -120....</td>\n",
       "      <td>10UGU</td>\n",
       "    </tr>\n",
       "    <tr>\n",
       "      <th>...</th>\n",
       "      <td>...</td>\n",
       "      <td>...</td>\n",
       "      <td>...</td>\n",
       "      <td>...</td>\n",
       "    </tr>\n",
       "    <tr>\n",
       "      <th>118395</th>\n",
       "      <td>95</td>\n",
       "      <td>55HET_95</td>\n",
       "      <td>POLYGON Z ((148.25794 -38.43561 0.00000, 148.2...</td>\n",
       "      <td>55HET</td>\n",
       "    </tr>\n",
       "    <tr>\n",
       "      <th>118396</th>\n",
       "      <td>96</td>\n",
       "      <td>55HET_96</td>\n",
       "      <td>POLYGON Z ((148.25966 -38.53454 0.00000, 148.2...</td>\n",
       "      <td>55HET</td>\n",
       "    </tr>\n",
       "    <tr>\n",
       "      <th>118397</th>\n",
       "      <td>97</td>\n",
       "      <td>55HET_97</td>\n",
       "      <td>POLYGON Z ((148.26137 -38.63347 0.00000, 148.2...</td>\n",
       "      <td>55HET</td>\n",
       "    </tr>\n",
       "    <tr>\n",
       "      <th>118398</th>\n",
       "      <td>98</td>\n",
       "      <td>55HET_98</td>\n",
       "      <td>POLYGON Z ((148.26309 -38.73240 0.00000, 148.2...</td>\n",
       "      <td>55HET</td>\n",
       "    </tr>\n",
       "    <tr>\n",
       "      <th>118399</th>\n",
       "      <td>99</td>\n",
       "      <td>55HET_99</td>\n",
       "      <td>POLYGON Z ((148.26481 -38.83133 0.00000, 148.2...</td>\n",
       "      <td>55HET</td>\n",
       "    </tr>\n",
       "  </tbody>\n",
       "</table>\n",
       "<p>118400 rows × 4 columns</p>\n",
       "</div>"
      ],
      "text/plain": [
       "        InnerTileIndex  TileName  \\\n",
       "0                    0   10UGU_0   \n",
       "1                    1   10UGU_1   \n",
       "2                    2   10UGU_2   \n",
       "3                    3   10UGU_3   \n",
       "4                    4   10UGU_4   \n",
       "...                ...       ...   \n",
       "118395              95  55HET_95   \n",
       "118396              96  55HET_96   \n",
       "118397              97  55HET_97   \n",
       "118398              98  55HET_98   \n",
       "118399              99  55HET_99   \n",
       "\n",
       "                                                 geometry TileId  \n",
       "0       POLYGON Z ((-120.28118 48.72093 0.00000, -120....  10UGU  \n",
       "1       POLYGON Z ((-120.13770 48.61778 0.00000, -120....  10UGU  \n",
       "2       POLYGON Z ((-120.14316 48.51912 0.00000, -120....  10UGU  \n",
       "3       POLYGON Z ((-120.14863 48.42046 0.00000, -120....  10UGU  \n",
       "4       POLYGON Z ((-120.15409 48.32180 0.00000, -120....  10UGU  \n",
       "...                                                   ...    ...  \n",
       "118395  POLYGON Z ((148.25794 -38.43561 0.00000, 148.2...  55HET  \n",
       "118396  POLYGON Z ((148.25966 -38.53454 0.00000, 148.2...  55HET  \n",
       "118397  POLYGON Z ((148.26137 -38.63347 0.00000, 148.2...  55HET  \n",
       "118398  POLYGON Z ((148.26309 -38.73240 0.00000, 148.2...  55HET  \n",
       "118399  POLYGON Z ((148.26481 -38.83133 0.00000, 148.2...  55HET  \n",
       "\n",
       "[118400 rows x 4 columns]"
      ]
     },
     "metadata": {},
     "execution_count": 41
    }
   ],
   "metadata": {}
  }
 ],
 "metadata": {
  "orig_nbformat": 4,
  "language_info": {
   "name": "python",
   "version": "3.8.5",
   "mimetype": "text/x-python",
   "codemirror_mode": {
    "name": "ipython",
    "version": 3
   },
   "pygments_lexer": "ipython3",
   "nbconvert_exporter": "python",
   "file_extension": ".py"
  },
  "kernelspec": {
   "name": "python3",
   "display_name": "Python 3.8.5 64-bit ('base': conda)"
  },
  "interpreter": {
   "hash": "a535d873fe0e83797f6e6a2091476b53ca700b1c39e49c8cf317620b8a39cd7e"
  }
 },
 "nbformat": 4,
 "nbformat_minor": 2
}