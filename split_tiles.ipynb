{
 "cells": [
  {
   "cell_type": "code",
   "execution_count": 2,
   "source": [
    "import geopandas as gpd\n",
    "from matplotlib import pyplot as plt"
   ],
   "outputs": [],
   "metadata": {}
  },
  {
   "cell_type": "code",
   "execution_count": 3,
   "source": [
    "gpd.io.file.fiona.drvsupport.supported_drivers['KML'] = 'rw'\n",
    "tiles_df = gpd.read_file('output/covering_tiles.kml', driver='KML')\n",
    "print(repr(tiles_df.crs))\n",
    "print(tiles_df)"
   ],
   "outputs": [
    {
     "output_type": "stream",
     "name": "stdout",
     "text": [
      "<Geographic 2D CRS: EPSG:4326>\n",
      "Name: WGS 84\n",
      "Axis Info [ellipsoidal]:\n",
      "- Lat[north]: Geodetic latitude (degree)\n",
      "- Lon[east]: Geodetic longitude (degree)\n",
      "Area of Use:\n",
      "- name: World.\n",
      "- bounds: (-180.0, -90.0, 180.0, 90.0)\n",
      "Datum: World Geodetic System 1984 ensemble\n",
      "- Ellipsoid: WGS 84\n",
      "- Prime Meridian: Greenwich\n",
      "\n",
      "     Name Description                                           geometry\n",
      "0                      POLYGON Z ((-120.28118 48.72093 0.00000, -118....\n",
      "1                      POLYGON Z ((-119.67207 47.82260 0.00000, -118....\n",
      "2                      POLYGON Z ((-119.71936 48.72091 0.00000, -118....\n",
      "3                      POLYGON Z ((-113.43120 42.42690 0.00000, -112....\n",
      "4                      POLYGON Z ((-112.21648 42.44624 0.00000, -110....\n",
      "...   ...         ...                                                ...\n",
      "1179                   POLYGON Z ((29.99818 -26.18805 0.00000, 31.096...\n",
      "1180                   POLYGON Z ((136.08714 -34.33630 0.00000, 137.2...\n",
      "1181                   POLYGON Z ((138.84898 -33.42038 0.00000, 140.0...\n",
      "1182                   POLYGON Z ((144.77762 -36.12374 0.00000, 145.9...\n",
      "1183                   POLYGON Z ((146.99977 -37.94759 0.00000, 148.2...\n",
      "\n",
      "[1184 rows x 3 columns]\n"
     ]
    }
   ],
   "metadata": {}
  },
  {
   "cell_type": "code",
   "execution_count": 201,
   "source": [
    "import shapely.ops as shops\n",
    "import shapely.geometry as shgeom\n",
    "import shapely.affinity as shaff\n",
    "import time\n",
    "\n",
    "\n",
    "ax = None\n",
    "def plot_geom(geom, **kwargs):\n",
    "    \"\"\"\n",
    "    Plot geom on the global axis.\n",
    "    \"\"\"\n",
    "    assert ax is not None\n",
    "    gpd.GeoSeries(geom).plot(ax=ax, **kwargs)\n",
    "\n",
    "def split_1d(geom, n, direction, debug=False):\n",
    "    \"\"\"\n",
    "    Split geom n times in a given direction.\n",
    "    Return the splitted geometries.\n",
    "    Follows method in https://stackoverflow.com/q/58283684.\n",
    "\n",
    "    Given this square:\n",
    "    1 --> 2\n",
    "    ^     |\n",
    "    |     v\n",
    "    0 <-- 3\n",
    "\n",
    "    left -> right: lerp 0, 1 -> 3, 2\n",
    "    top -> down: lerp 1, 2 -> 0, 3\n",
    "    \"\"\"\n",
    "    coords = list(shgeom.Point(c) for c in geom.exterior.coords)\n",
    "    if len(coords) == 5:\n",
    "        for i, c in enumerate(coords):\n",
    "            if i == len(coords)-1:\n",
    "                d = coords[0]\n",
    "            else:\n",
    "                d = coords[i+1]\n",
    "            if c == d:\n",
    "                if debug: print('Remove', i)\n",
    "                del coords[i]\n",
    "                break\n",
    "    assert len(coords) == 4\n",
    "\n",
    "    # rotate linear ring so that coords[0] is the bottom left\n",
    "    # assumes geometry only has one point in quadrant III\n",
    "    def offset_from_centroid(geom, c):\n",
    "        return shaff.translate(c, -geom.centroid.x, -geom.centroid.y)\n",
    "    min_coord_i = 0\n",
    "    for i, c in enumerate(coords):\n",
    "        off = offset_from_centroid(geom, c)\n",
    "        if off.x < 0 and off.y < 0:\n",
    "            min_coord_i = i\n",
    "            if debug: print('Rotate', i, 'to first index')\n",
    "    coords = coords[min_coord_i:] + coords[:min_coord_i]\n",
    "\n",
    "    # Assume the following:\n",
    "    # 1. 4 coordinates are the 4 bounds of the rectangle\n",
    "    # 2. Coordinates are in a linear ring\n",
    "    # 3. Bottom left coordinate is at coords[0]\n",
    "\n",
    "    if debug:\n",
    "        # plot linear ring\n",
    "        for i, c in enumerate(coords):\n",
    "            plot_geom(c, color=(0, 0, 1, (i+1)/len(coords)))\n",
    "\n",
    "    # lerp from a to b, n times\n",
    "    splitters = []\n",
    "    if direction == 'left_right':\n",
    "        ls_a = shgeom.LineString((coords[0], coords[3]))\n",
    "        ls_b = shgeom.LineString((coords[1], coords[2]))\n",
    "    elif direction == 'top_down':\n",
    "        ls_a = shgeom.LineString((coords[1], coords[0]))\n",
    "        ls_b = shgeom.LineString((coords[2], coords[3]))\n",
    "    else:\n",
    "        raise NotImplementedError(direction)\n",
    "    # test that top and bot are correctly named\n",
    "    if debug:\n",
    "        plot_geom(ls_a, color='red')\n",
    "        plot_geom(ls_b, color='green')\n",
    "    \n",
    "    extend_percent = 0.2  # how much to extend the line\n",
    "    for i in range(1, n):\n",
    "        # lerp along the line\n",
    "        lerp_percent = i / n\n",
    "        interp_a_ls = ls_a.interpolate(lerp_percent, normalized=True)\n",
    "        interp_b_ls = ls_b.interpolate(lerp_percent, normalized=True)\n",
    "\n",
    "        # extend the line by a portion to account for floating point precision\n",
    "        new_interp_a_ls = shgeom.Point(\n",
    "            (interp_a_ls.x - ((interp_b_ls.x - interp_a_ls.x) * extend_percent)),\n",
    "            (interp_a_ls.y - ((interp_b_ls.y - interp_a_ls.y) * extend_percent))\n",
    "            )\n",
    "        new_interp_b_ls = shgeom.Point(\n",
    "            (interp_b_ls.x - ((interp_a_ls.x - interp_b_ls.x) * extend_percent)),\n",
    "            (interp_b_ls.y - ((interp_a_ls.y - interp_b_ls.y) * extend_percent))\n",
    "            )\n",
    "        if debug:\n",
    "            plot_geom(new_interp_a_ls, color=(1, 0, 0, lerp_percent))\n",
    "            plot_geom(new_interp_b_ls, color=(0, 1, 0, lerp_percent))\n",
    "        \n",
    "        # create a new LineString which will split geom\n",
    "        split_ls = shgeom.LineString((new_interp_b_ls, new_interp_a_ls))\n",
    "        splitters.append(split_ls)\n",
    "\n",
    "    # split geom using all the splitters.\n",
    "    # this assumes ordering of the splitters (left -> right, up -> down)...\n",
    "    # and will fail if the ordering is messed up\n",
    "    splits = []\n",
    "    q = geom\n",
    "    for i, splitter in enumerate(splitters):\n",
    "        if debug:\n",
    "            plot_geom(q, color=(0, 0, 0, 0), edgecolor=(0, 0, 1), hatch='o')\n",
    "            plot_geom(splitter, color=(0, 0, 1))\n",
    "        split_result = shops.split(q, splitter)\n",
    "        if len(split_result) == 2:\n",
    "            p, q = split_result\n",
    "            splits.append(p)\n",
    "        else:\n",
    "            # the geometry was not split by the splitter, blurt diagnostics\n",
    "            if splitter.intersects(q):\n",
    "                print('line intersects but does not split')\n",
    "            else:\n",
    "                print('line does not intersect')\n",
    "            raise Exception(f'iteration {i} {len(split_result)=}')\n",
    "    splits.append(q)\n",
    "    return splits\n",
    "\n",
    "\n",
    "times = []\n",
    "n = 10\n",
    "for tile_i, tile_geom in enumerate(tiles_df.geometry.sample(3)):\n",
    "    # can't be assed to axis-align the box, so just do two separate lerps\n",
    "    small_tiles = []  # results of splitting, in a 1d array\n",
    "    begin = time.time()\n",
    "    splits = split_1d(tile_geom, n, 'left_right')\n",
    "    for i, s in enumerate(splits):\n",
    "        s_split = split_1d(s, n, 'top_down')\n",
    "        small_tiles += s_split\n",
    "    end = time.time()\n",
    "    times.append(end-begin)\n",
    "    \n",
    "    # plot the results\n",
    "    ax = plt.gca()\n",
    "    for i in range(n):\n",
    "        for j in range(n):\n",
    "            plot_geom(small_tiles[i*n+j], color=(1, i/n, j/n))\n",
    "    plt.show()\n",
    "print('Average time:', sum(times)/len(times))"
   ],
   "outputs": [
    {
     "output_type": "display_data",
     "data": {
      "image/png": "[encoded data removed]",
      "text/plain": [
       "<Figure size 432x288 with 1 Axes>"
      ]
     },
     "metadata": {
      "needs_background": "light"
     }
    },
    {
     "output_type": "display_data",
     "data": {
      "image/png": "[encoded data removed]",
      "text/plain": [
       "<Figure size 432x288 with 1 Axes>"
      ]
     },
     "metadata": {
      "needs_background": "light"
     }
    },
    {
     "output_type": "display_data",
     "data": {
      "image/png": "[encoded data removed]",
      "text/plain": [
       "<Figure size 432x288 with 1 Axes>"
      ]
     },
     "metadata": {
      "needs_background": "light"
     }
    },
    {
     "output_type": "stream",
     "name": "stdout",
     "text": [
      "Average time: 0.0682538350423177\n"
     ]
    }
   ],
   "metadata": {}
  },
  {
   "cell_type": "code",
   "execution_count": null,
   "source": [],
   "outputs": [],
   "metadata": {}
  }
 ],
 "metadata": {
  "orig_nbformat": 4,
  "language_info": {
   "name": "python",
   "version": "3.8.5",
   "mimetype": "text/x-python",
   "codemirror_mode": {
    "name": "ipython",
    "version": 3
   },
   "pygments_lexer": "ipython3",
   "nbconvert_exporter": "python",
   "file_extension": ".py"
  },
  "kernelspec": {
   "name": "python3",
   "display_name": "Python 3.8.5 64-bit ('base': conda)"
  },
  "interpreter": {
   "hash": "a535d873fe0e83797f6e6a2091476b53ca700b1c39e49c8cf317620b8a39cd7e"
  }
 },
 "nbformat": 4,
 "nbformat_minor": 2
}